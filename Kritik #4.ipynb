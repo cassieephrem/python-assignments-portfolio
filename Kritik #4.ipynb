{
 "cells": [
  {
   "cell_type": "code",
   "execution_count": 2,
   "id": "1c014b9b-6283-4156-9486-e50d9fa8de59",
   "metadata": {},
   "outputs": [
    {
     "name": "stdout",
     "output_type": "stream",
     "text": [
      "0.999\n",
      "1.001\n"
     ]
    }
   ],
   "source": [
    "def f(x):\n",
    "    return x**2\n",
    "\n",
    "c = 1\n",
    "E = 0.1\n",
    "\n",
    "x1 = c\n",
    "x2 = c\n",
    "delx = 10**(-8)\n",
    "d = 0.001\n",
    "\n",
    "def fprime(x):\n",
    "        return (f(x+delx)-f(x-delx))/(2*delx)\n",
    "\n",
    "def L(x):\n",
    "        return f(c)+fprime(c)*(x-c)\n",
    "\n",
    "for i in range (100):\n",
    "    x1=x1-d\n",
    "    if abs(f(x1)-L(x1)) <= E:\n",
    "        print (x1)\n",
    "        break\n",
    "\n",
    "else:\n",
    "    print (\"no such x1 is able to be found\")\n",
    "\n",
    "for i in range (100):\n",
    "    x2+=d\n",
    "    if abs(f(x2)-L(x2)) <= E:\n",
    "        print (x2)\n",
    "        break\n",
    "\n",
    "else:\n",
    "    print (\"no such x2 is able to be found\")"
   ]
  },
  {
   "cell_type": "code",
   "execution_count": 4,
   "id": "04c0b18f-aa27-4203-a5ef-807e6e66896b",
   "metadata": {},
   "outputs": [
    {
     "name": "stdout",
     "output_type": "stream",
     "text": [
      "-1e-05\n",
      "1e-05\n"
     ]
    }
   ],
   "source": [
    "import numpy as np\n",
    "def yuh(x):\n",
    "    return np.e**x\n",
    "\n",
    "c=0\n",
    "E=0.01\n",
    "\n",
    "n=100\n",
    "x1=c\n",
    "x2=c\n",
    "delx=10**(-8)\n",
    "d=0.00001\n",
    "def yuhPrime(x):\n",
    "    return (yuh(x+delx)-yuh(x-delx))/(2*delx)\n",
    "def L(x):\n",
    "    return yuh(c)+yuhPrime(c)*(x-c)\n",
    "\n",
    "for i in range(n):\n",
    "    x1-=d\n",
    "    if abs(yuh(x1)-L(x1)) <= E:\n",
    "        print (x1)\n",
    "        break \n",
    "else:\n",
    "        print (\"No such x1 can be found!\")\n",
    "\n",
    "for i in range(n):\n",
    "    x2+=d\n",
    "    if abs(yuh(x2)-L(x2)) <= E:\n",
    "        print (x2)\n",
    "        break\n",
    "\n",
    "else:\n",
    "    print(\"No such x2 can be found!\")\n",
    "\n"
   ]
  },
  {
   "cell_type": "code",
   "execution_count": 5,
   "id": "cc3699f6-8309-4f70-9012-d206855b8844",
   "metadata": {},
   "outputs": [
    {
     "name": "stdout",
     "output_type": "stream",
     "text": [
      "0.7853881633974483\n",
      "0.7854081633974482\n"
     ]
    }
   ],
   "source": [
    "import numpy as np\n",
    "def yuh(x):\n",
    "    return np.sin(x)\n",
    "\n",
    "c=(np.pi)/4\n",
    "E=0.05\n",
    "\n",
    "n=100\n",
    "x1=c\n",
    "x2=c\n",
    "delx=10**(-8)\n",
    "d=0.00001\n",
    "def yuhPrime(x):\n",
    "    return (yuh(x+delx)-yuh(x-delx))/(2*delx)\n",
    "def L(x):\n",
    "    return yuh(c)+yuhPrime(c)*(x-c)\n",
    "\n",
    "for i in range(n):\n",
    "    x1-=d\n",
    "    if abs(yuh(x1)-L(x1)) <= E:\n",
    "        print (x1)\n",
    "        break \n",
    "else:\n",
    "        print (\"No such x1 can be found!\")\n",
    "\n",
    "for i in range(n):\n",
    "    x2+=d\n",
    "    if abs(yuh(x2)-L(x2)) <= E:\n",
    "        print (x2)\n",
    "        break\n",
    "\n",
    "else:\n",
    "    print(\"No such x2 can be found!\")\n"
   ]
  },
  {
   "cell_type": "code",
   "execution_count": null,
   "id": "be54cf77-9bec-4de5-a052-b460c701bcd9",
   "metadata": {},
   "outputs": [],
   "source": []
  }
 ],
 "metadata": {
  "kernelspec": {
   "display_name": "Python 3 (ipykernel)",
   "language": "python",
   "name": "python3"
  },
  "language_info": {
   "codemirror_mode": {
    "name": "ipython",
    "version": 3
   },
   "file_extension": ".py",
   "mimetype": "text/x-python",
   "name": "python",
   "nbconvert_exporter": "python",
   "pygments_lexer": "ipython3",
   "version": "3.11.4"
  }
 },
 "nbformat": 4,
 "nbformat_minor": 5
}
