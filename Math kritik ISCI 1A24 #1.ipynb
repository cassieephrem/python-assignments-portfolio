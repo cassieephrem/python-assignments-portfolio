{
 "cells": [
  {
   "cell_type": "code",
   "execution_count": 6,
   "id": "407f3e15",
   "metadata": {},
   "outputs": [
    {
     "name": "stdout",
     "output_type": "stream",
     "text": [
      "Give me0\n",
      "(0, 1, 0.0)\n"
     ]
    }
   ],
   "source": [
    "given_number = float(input (\"Give me\"))\n",
    "\n",
    "def mac (x):\n",
    "    n = 0\n",
    "    a = 0\n",
    "    error_bound = x**(2*n+1)/(2*n+1)\n",
    "    \n",
    "    if x>=0 and x<=1:\n",
    "   \n",
    "        while error_bound>0.0001:\n",
    "            n+=1\n",
    "            error_bound = x**(2*n+1)/(2*n+1)\n",
    "   \n",
    "        for (i) in range (0, n-1):   \n",
    "            a+=((-1)**i*x**(2*i*+1))/(2*i+1)\n",
    "    \n",
    "    \n",
    "        other_n=2*n+1\n",
    "        return a, other_n, error_bound\n",
    "\n",
    "\n",
    "    else:\n",
    "        print(\"Error!\")\n",
    "print (mac(given_number))"
   ]
  },
  {
   "cell_type": "code",
   "execution_count": null,
   "id": "5f7a5dd8",
   "metadata": {},
   "outputs": [],
   "source": [
    "def f:\n",
    "\n",
    "    return \n",
    "\n",
    "\n",
    "    while abs(b-a)>=10**-10\n",
    "             M=(a+b)/2\n",
    "    If f(x)<M, M=b\n",
    "    If f(x)>M, M=b"
   ]
  },
  {
   "cell_type": "code",
   "execution_count": 16,
   "id": "d2832010",
   "metadata": {},
   "outputs": [
    {
     "name": "stdout",
     "output_type": "stream",
     "text": [
      "[0, 1, 2, 3, 4, 5, 6, 7, 8, 9]\n"
     ]
    }
   ],
   "source": [
    "love=range(0,10)\n",
    "love_list=list(love)\n",
    "print(love_list)\n"
   ]
  },
  {
   "cell_type": "code",
   "execution_count": 19,
   "id": "b0962728",
   "metadata": {},
   "outputs": [
    {
     "data": {
      "text/plain": [
       "[1, 2, 3, 4, 5, 6, 7, 8, 9]"
      ]
     },
     "execution_count": 19,
     "metadata": {},
     "output_type": "execute_result"
    }
   ],
   "source": [
    "love=(1,2,3,4,5,8,7,9,6)\n",
    "sorted(love)\n"
   ]
  },
  {
   "cell_type": "code",
   "execution_count": 21,
   "id": "5652fc87",
   "metadata": {},
   "outputs": [],
   "source": [
    "def poly(x,y):\n",
    "    \"Compute x +y**2\"\n",
    "    return x + y**2"
   ]
  },
  {
   "cell_type": "code",
   "execution_count": 23,
   "id": "4422b035",
   "metadata": {},
   "outputs": [
    {
     "name": "stdout",
     "output_type": "stream",
     "text": [
      "0 squared is 0\n",
      "1 squared is 1\n",
      "2 squared is 4\n",
      "3 squared is 9\n",
      "4 squared is 16\n",
      "5 squared is 25\n",
      "The for loop is complete!\n"
     ]
    }
   ],
   "source": [
    "for n in (0,1,2,3,4,5):\n",
    "    square=n**2\n",
    "    print(n,'squared is', square)\n",
    "print('The for loop is complete!')\n"
   ]
  },
  {
   "cell_type": "code",
   "execution_count": 24,
   "id": "c51fcf0d-564b-486d-b58f-0d09521b908f",
   "metadata": {},
   "outputs": [
    {
     "name": "stdout",
     "output_type": "stream",
     "text": [
      "5\n",
      "4\n",
      "3\n",
      "2\n",
      "1\n"
     ]
    }
   ],
   "source": [
    "n=5\n",
    "while n>0:\n",
    "    print(n)\n",
    "    n=n-1"
   ]
  },
  {
   "cell_type": "code",
   "execution_count": 5,
   "id": "2a9108cf",
   "metadata": {},
   "outputs": [],
   "source": [
    "import numpy as np\n",
    "def funny(x):\n",
    "    if x<=-1:\n",
    "        return 0\n",
    "    elif x>=1:\n",
    "        return 0\n",
    "    else: \n",
    "        return np.exp(1-(1/(1-x**(10**250))))\n",
    "        \n"
   ]
  },
  {
   "cell_type": "code",
   "execution_count": 36,
   "id": "13aa550b-2973-456d-96a7-6d80be7686c2",
   "metadata": {},
   "outputs": [],
   "source": [
    "def sum_of_squares_2(N):\n",
    "    \"Compute the sum of squares 1**2 +2**2...+ N**2\"\n",
    "    result = 0\n",
    "    for n in range(1, N+1):\n",
    "        result = result + n**2\n",
    "    return result"
   ]
  },
  {
   "cell_type": "code",
   "execution_count": null,
   "id": "d0741939-fd6d-42aa-b1b3-ab3135973479",
   "metadata": {},
   "outputs": [],
   "source": [
    "[a,b] that f(a)*f(b)<0\n",
    "f(m) where m="
   ]
  }
 ],
 "metadata": {
  "kernelspec": {
   "display_name": "Python 3 (ipykernel)",
   "language": "python",
   "name": "python3"
  },
  "language_info": {
   "codemirror_mode": {
    "name": "ipython",
    "version": 3
   },
   "file_extension": ".py",
   "mimetype": "text/x-python",
   "name": "python",
   "nbconvert_exporter": "python",
   "pygments_lexer": "ipython3",
   "version": "3.11.4"
  }
 },
 "nbformat": 4,
 "nbformat_minor": 5
}
