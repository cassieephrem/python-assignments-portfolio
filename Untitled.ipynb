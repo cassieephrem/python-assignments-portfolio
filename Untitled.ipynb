{
 "cells": [
  {
   "cell_type": "code",
   "execution_count": null,
   "id": "140f33c8-7e0d-49aa-b7a0-47e8ce01d44e",
   "metadata": {},
   "outputs": [],
   "source": []
  },
  {
   "cell_type": "code",
   "execution_count": 24,
   "id": "ef399026-d86a-4f8a-aea4-37271a238a07",
   "metadata": {},
   "outputs": [
    {
     "name": "stdout",
     "output_type": "stream",
     "text": [
      "0.999\n",
      "1.001\n"
     ]
    }
   ],
   "source": [
    "def f(x):\n",
    "    return x**2\n",
    "c=1\n",
    "E=0.1\n",
    "\n",
    "x1=c\n",
    "x2=c\n",
    "delx=10**(-8)\n",
    "d=0.001\n",
    "   \n",
    "def fprime(x):\n",
    "        return (f(x+delx)-f(x-delx))/(2*delx)\n",
    "   \n",
    "def L(x):\n",
    "        return f(c)+fprime(c)*(x-c)\n",
    "\n",
    "for i in range (100):\n",
    "        x1=x1-d\n",
    "        if abs(f(x1)-L(x1)) <= E:\n",
    "            print (x1)\n",
    "            break\n",
    "else:\n",
    "    print (\"no such x1 is able to be found\")\n",
    "       \n",
    "for i in range(100):\n",
    "         x2+=d\n",
    "         if abs(f(x2)-L(x2)) <= E:\n",
    "            print (x2)\n",
    "            break\n",
    "else:\n",
    "    print (\"no such x2 is able to be found\")"
   ]
  },
  {
   "cell_type": "code",
   "execution_count": null,
   "id": "0723b678-cb83-4998-8d58-9109c284cb82",
   "metadata": {},
   "outputs": [],
   "source": []
  },
  {
   "cell_type": "code",
   "execution_count": null,
   "id": "e82199e0-f8b2-4f57-8df7-65a69c8d1efb",
   "metadata": {},
   "outputs": [],
   "source": []
  }
 ],
 "metadata": {
  "kernelspec": {
   "display_name": "Python 3 (ipykernel)",
   "language": "python",
   "name": "python3"
  },
  "language_info": {
   "codemirror_mode": {
    "name": "ipython",
    "version": 3
   },
   "file_extension": ".py",
   "mimetype": "text/x-python",
   "name": "python",
   "nbconvert_exporter": "python",
   "pygments_lexer": "ipython3",
   "version": "3.11.4"
  }
 },
 "nbformat": 4,
 "nbformat_minor": 5
}
