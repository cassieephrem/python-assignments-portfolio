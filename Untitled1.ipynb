{
 "cells": [
  {
   "cell_type": "code",
   "execution_count": 12,
   "id": "6a7eb014-916d-474d-95d0-cb9cdadb8af8",
   "metadata": {},
   "outputs": [
    {
     "name": "stdin",
     "output_type": "stream",
     "text": [
      "Give me 0.6\n"
     ]
    }
   ],
   "source": [
    "given_number = float(input (\"Give me\"))\n",
    "\n",
    "def mac(x): \n",
    "    n = 0\n",
    "    a = 0\n",
    "    error_bound = x**(2*n+1)/(2*n+1)\n",
    "\n",
    "    if x>=0 and x<=1:\n",
    "\n",
    "        while error_bound>0.0001:\n",
    "            n+=1 \n",
    "            error_bound = x**(2*n+1)/(2*n+1)\n",
    "\n",
    "        for (i) in range (0, n-1):\n",
    "            a+=((-1)**i*x**(2*i*+1))/ (2*i+1)\n",
    "\n",
    "\n",
    "        other_n=2*n+1\n",
    "        return a, other_n, error_bound\n",
    "\n",
    "    else:\n",
    "        print(\"error!\")\n",
    "    print (mac(given_number))          \n"
   ]
  },
  {
   "cell_type": "code",
   "execution_count": null,
   "id": "53a760e0-16c3-4ce4-aa41-3dde9a95c076",
   "metadata": {},
   "outputs": [],
   "source": []
  }
 ],
 "metadata": {
  "kernelspec": {
   "display_name": "Python 3 (ipykernel)",
   "language": "python",
   "name": "python3"
  },
  "language_info": {
   "codemirror_mode": {
    "name": "ipython",
    "version": 3
   },
   "file_extension": ".py",
   "mimetype": "text/x-python",
   "name": "python",
   "nbconvert_exporter": "python",
   "pygments_lexer": "ipython3",
   "version": "3.11.4"
  }
 },
 "nbformat": 4,
 "nbformat_minor": 5
}
