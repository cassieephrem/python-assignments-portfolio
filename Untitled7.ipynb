{
 "cells": [
  {
   "cell_type": "code",
   "execution_count": null,
   "id": "6726b2ec-89e1-4833-9759-ccbaad5534fc",
   "metadata": {},
   "outputs": [],
   "source": [
    "def love (f,a,b):\n",
    "    if f(a) * f(b)>=0\n",
    "        print(\"bisection method fails\")\n",
    "\n",
    "    rbound = b\n",
    "    lbound = a\n",
    "    precision = 1e-10\n",
    "\n",
    "    if (abs(f(bound)) < precision:\n",
    "        return round(rbound,10)\n",
    "\n",
    "    elif (abs(f(rbound)) < precision):\n",
    "        return round(rbound,10)\n",
    "\n",
    "    while (rbound-lbound) > precision:\n",
    "        bisection = (lbound+rbound)/2\n",
    "        if f(bisection)*f*lbound) <0:\n",
    "        else:\n",
    "        lbound = bisection\n",
    "\n",
    "\n",
    "        return round(bisection,10)\n",
    "\n",
    "import math\n",
    "\n",
    "def f(x): \n",
    "    return math.e**x + math.log(x)\n",
    "a=0.00\n"
   ]
  }
 ],
 "metadata": {
  "kernelspec": {
   "display_name": "",
   "name": ""
  },
  "language_info": {
   "name": ""
  }
 },
 "nbformat": 4,
 "nbformat_minor": 5
}
